{
 "cells": [
  {
   "cell_type": "code",
   "execution_count": 2,
   "id": "b304002f-f9e8-46c5-8b36-deb4eea44988",
   "metadata": {},
   "outputs": [
    {
     "name": "stdout",
     "output_type": "stream",
     "text": [
      "1\n",
      "2\n",
      "3\n",
      "4\n",
      "5\n"
     ]
    }
   ],
   "source": [
    "i=1           #initialization\n",
    "while i<=5:    #test i<=5 or not\n",
    "    print(i)   #code to be executed\n",
    "    i+=1        #update"
   ]
  },
  {
   "cell_type": "code",
   "execution_count": 7,
   "id": "9684ded6-56a8-4e29-86f3-8c852d142ae7",
   "metadata": {},
   "outputs": [
    {
     "name": "stdout",
     "output_type": "stream",
     "text": [
      "15 * 1 = 15\n",
      "15 * 2 = 30\n",
      "15 * 3 = 45\n",
      "15 * 4 = 60\n",
      "15 * 5 = 75\n",
      "15 * 6 = 90\n",
      "15 * 7 = 105\n",
      "15 * 8 = 120\n",
      "15 * 9 = 135\n",
      "15 * 10 = 150\n"
     ]
    }
   ],
   "source": [
    "#print table of 15 \n",
    "n=15\n",
    "for i in range(1,11):\n",
    "\tprint(n,\"*\",i,\"=\",n*i)"
   ]
  },
  {
   "cell_type": "code",
   "execution_count": 8,
   "id": "e24d918c-4544-4290-8deb-99f870d7483b",
   "metadata": {},
   "outputs": [
    {
     "name": "stdout",
     "output_type": "stream",
     "text": [
      "sakshi\n",
      "ganesha\n"
     ]
    }
   ],
   "source": [
    "#1.\tLooping Through a String \n",
    "names = [\"sakshi\",\"ganesha\"]\n",
    "for i in names:\n",
    "\tprint(i)"
   ]
  },
  {
   "cell_type": "code",
   "execution_count": 9,
   "id": "16c2665b-2aa8-4ec5-b0df-33d173b8245d",
   "metadata": {},
   "outputs": [
    {
     "name": "stdout",
     "output_type": "stream",
     "text": [
      "h e l l o "
     ]
    }
   ],
   "source": [
    "for char in \"hello\":\n",
    "\tprint(char,end=\" \")"
   ]
  },
  {
   "cell_type": "code",
   "execution_count": 10,
   "id": "54405682-019d-4712-9dff-87994d9822be",
   "metadata": {},
   "outputs": [
    {
     "name": "stdout",
     "output_type": "stream",
     "text": [
      "37\n"
     ]
    }
   ],
   "source": [
    "#addition\n",
    "l=[2,6,7,4,7,8,3]\n",
    "sum=0\n",
    "for i in l:\n",
    "\tsum+=i\n",
    "print(sum)"
   ]
  },
  {
   "cell_type": "code",
   "execution_count": 11,
   "id": "e6970f9e-6db5-4eb0-bff1-2300c2861410",
   "metadata": {},
   "outputs": [
    {
     "name": "stdout",
     "output_type": "stream",
     "text": [
      "s\n",
      "a\n",
      "k\n",
      "s\n",
      "h\n",
      "i\n"
     ]
    }
   ],
   "source": [
    "#for loop using len function\n",
    "s=\"sakshi\"\n",
    "for b in range(0,len(s)):\n",
    "\tprint(s[b])"
   ]
  },
  {
   "cell_type": "code",
   "execution_count": 12,
   "id": "899dc4c8-e070-48f1-aff6-01ebc631162c",
   "metadata": {},
   "outputs": [
    {
     "name": "stdout",
     "output_type": "stream",
     "text": [
      "1's square is 1\n",
      "2's square is 4\n",
      "3's square is 9\n",
      "4's square is 16\n",
      "5's square is 25\n",
      "6's square is 36\n",
      "7's square is 49\n",
      "8's square is 64\n",
      "9's square is 81\n",
      "10's square is 100\n"
     ]
    }
   ],
   "source": [
    "#find the square of first 10 no \n",
    "for i in range (1,11):\n",
    "    print(f\"{i}'s square is {i**2}\")\n",
    "    "
   ]
  },
  {
   "cell_type": "code",
   "execution_count": 15,
   "id": "2258ff5f-40ea-4c50-8707-5aecdf80bdd4",
   "metadata": {},
   "outputs": [
    {
     "name": "stdout",
     "output_type": "stream",
     "text": [
      "0\n",
      "1\n",
      "2\n",
      "3\n",
      "4\n"
     ]
    }
   ],
   "source": [
    "for i in range (10):\n",
    "    if i==5:\n",
    "        break\n",
    "    print(i)\n",
    "    #this loop will print number from 0 to 4 and then stop"
   ]
  },
  {
   "cell_type": "code",
   "execution_count": 14,
   "id": "3bde653f-df46-4f9f-afd7-5e2392fc6339",
   "metadata": {},
   "outputs": [
    {
     "name": "stdout",
     "output_type": "stream",
     "text": [
      "1 2 3 4 5 7 8 9 10 "
     ]
    }
   ],
   "source": [
    "for i in range(1, 11):\n",
    "    if i == 6:    #skip\n",
    "        continue\n",
    "    print(i, end=\" \")\n"
   ]
  },
  {
   "cell_type": "code",
   "execution_count": 16,
   "id": "757d3186-76fb-402b-ae65-41e31d2d4844",
   "metadata": {},
   "outputs": [
    {
     "name": "stdout",
     "output_type": "stream",
     "text": [
      "1 3 5 7 9 "
     ]
    }
   ],
   "source": [
    "for i in range (10):\n",
    "    if i%2==0:\n",
    "        continue\n",
    "    print(i,end=' ')\n",
    "    "
   ]
  },
  {
   "cell_type": "code",
   "execution_count": null,
   "id": "526321dd-6a6b-4d98-9866-9e82c9380dfb",
   "metadata": {},
   "outputs": [],
   "source": [
    "seq1=\"spam\"\n",
    "seq2=\"scam\"\n",
    "for i in seq1:\n",
    "    if i in seq2:\n",
    "        new1.append(i)\n",
    "\n",
    "print(new1)"
   ]
  }
 ],
 "metadata": {
  "kernelspec": {
   "display_name": "Python 3 (ipykernel)",
   "language": "python",
   "name": "python3"
  },
  "language_info": {
   "codemirror_mode": {
    "name": "ipython",
    "version": 3
   },
   "file_extension": ".py",
   "mimetype": "text/x-python",
   "name": "python",
   "nbconvert_exporter": "python",
   "pygments_lexer": "ipython3",
   "version": "3.11.7"
  }
 },
 "nbformat": 4,
 "nbformat_minor": 5
}
