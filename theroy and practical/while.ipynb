{
 "cells": [
  {
   "cell_type": "code",
   "execution_count": 3,
   "id": "211ceb71-cce1-40d4-83d7-33b0c51ede3d",
   "metadata": {},
   "outputs": [
    {
     "name": "stdout",
     "output_type": "stream",
     "text": [
      "spam pam am m "
     ]
    }
   ],
   "source": [
    "x=\"spam\"\n",
    "while x:\n",
    "    print(x,end=' ')\n",
    "    x=x[1:]"
   ]
  },
  {
   "cell_type": "code",
   "execution_count": 4,
   "id": "4b60de68-7a8f-4fa7-bcc7-7acb9ed7fea4",
   "metadata": {},
   "outputs": [
    {
     "name": "stdout",
     "output_type": "stream",
     "text": [
      "10 12 14 "
     ]
    }
   ],
   "source": [
    "a=15; b=10\n",
    "while b<=a:\n",
    "    print(b,end=' ')\n",
    "    b+=2"
   ]
  },
  {
   "cell_type": "code",
   "execution_count": 5,
   "id": "f859a572-633c-49fa-9347-47fb1c168c73",
   "metadata": {},
   "outputs": [
    {
     "name": "stdout",
     "output_type": "stream",
     "text": [
      "0\n",
      "1\n",
      "2\n",
      "3\n",
      "4\n",
      "5\n"
     ]
    }
   ],
   "source": [
    "count=0\n",
    "while count<=5:\n",
    "    print(count)\n",
    "    count+=1"
   ]
  },
  {
   "cell_type": "code",
   "execution_count": 6,
   "id": "d30c90a4-0416-4a3c-8107-345436044ed5",
   "metadata": {},
   "outputs": [
    {
     "name": "stdin",
     "output_type": "stream",
     "text": [
      "Enter your name:  q\n",
      "Enter your age:  2\n"
     ]
    },
    {
     "name": "stdout",
     "output_type": "stream",
     "text": [
      "Hi q 4\n"
     ]
    },
    {
     "name": "stdin",
     "output_type": "stream",
     "text": [
      "Enter your name:  stop\n"
     ]
    }
   ],
   "source": [
    "while True:\n",
    "    name= input('Enter your name: ')\n",
    "    if name == 'stop':\n",
    "        break\n",
    "    age= input('Enter your age: ')\n",
    "    print(f'Hi {name} your age is {int(age)**2} correct ')\n"
   ]
  },
  {
   "cell_type": "code",
   "execution_count": 7,
   "id": "74f1023d-b5ae-493b-8352-d06b22f128c5",
   "metadata": {},
   "outputs": [
    {
     "name": "stdout",
     "output_type": "stream",
     "text": [
      "0\n",
      "1\n",
      "2\n",
      "3\n",
      "4\n"
     ]
    }
   ],
   "source": [
    "i=0\n",
    "while i<=5:\n",
    "    if i==5:\n",
    "        break\n",
    "    print(i)\n",
    "    i+=1"
   ]
  },
  {
   "cell_type": "code",
   "execution_count": 8,
   "id": "5059009c-93a3-4b5b-8d23-7a163e01bf4a",
   "metadata": {},
   "outputs": [
    {
     "name": "stdout",
     "output_type": "stream",
     "text": [
      "10 8 6 4 2 0 "
     ]
    }
   ],
   "source": [
    "x=11\n",
    "while x:\n",
    "    x-=1\n",
    "    if x%2!=0:\n",
    "        continue\n",
    "    print(x,end=' ')"
   ]
  },
  {
   "cell_type": "code",
   "execution_count": 10,
   "id": "b064a460-8b74-407e-ae95-39688f001aae",
   "metadata": {},
   "outputs": [
    {
     "name": "stdout",
     "output_type": "stream",
     "text": [
      "2\n",
      "skipping 3\n",
      "4\n",
      "5\n",
      "6\n",
      "7\n",
      "8\n",
      "9\n",
      "10\n",
      "loop finished\n"
     ]
    }
   ],
   "source": [
    "x=1\n",
    "while x<10:\n",
    "    x+=1\n",
    "    if x==3:\n",
    "        print(\"skipping 3\")\n",
    "        continue\n",
    "    print(x)\n",
    "\n",
    "else:\n",
    "    print(\"loop finished\")"
   ]
  },
  {
   "cell_type": "code",
   "execution_count": 11,
   "id": "0eff8812-24f5-4820-8417-e6d90ecfd2ca",
   "metadata": {},
   "outputs": [
    {
     "name": "stdout",
     "output_type": "stream",
     "text": [
      "1\n",
      "2\n",
      "3\n",
      "4\n",
      "6\n",
      "7\n",
      "8\n",
      "9\n",
      "11\n",
      "12\n",
      "13\n",
      "14\n",
      "16\n"
     ]
    }
   ],
   "source": [
    "i=0\n",
    "while i<=15:\n",
    "    i+=1\n",
    "    if i%5==0:\n",
    "        continue\n",
    "    print(i)\n",
    "    "
   ]
  },
  {
   "cell_type": "code",
   "execution_count": 12,
   "id": "af5ee57c-f1dd-44f0-b76b-cd96b17b0e88",
   "metadata": {},
   "outputs": [
    {
     "name": "stdout",
     "output_type": "stream",
     "text": [
      "5\n",
      "4\n",
      "3\n",
      "loop interped\n"
     ]
    }
   ],
   "source": [
    "x=5\n",
    "while x>0:\n",
    "    print(x)\n",
    "    if x==3:\n",
    "        print(\"loop interped\")\n",
    "        break\n",
    "    x-=1\n",
    "\n",
    "else:\n",
    "    print(\"without 3\")"
   ]
  },
  {
   "cell_type": "code",
   "execution_count": 13,
   "id": "c743b47f-98a8-493e-96b9-53689b576af3",
   "metadata": {},
   "outputs": [
    {
     "name": "stdout",
     "output_type": "stream",
     "text": [
      "5\n",
      "4\n",
      "3\n",
      "2\n",
      "1\n",
      "countdown finished\n"
     ]
    }
   ],
   "source": [
    "x=5\n",
    "while x>0:\n",
    "    print(x)\n",
    "    x-=1\n",
    "\n",
    "else:\n",
    "    print(\"countdown finished\")\n",
    "    "
   ]
  },
  {
   "cell_type": "code",
   "execution_count": 16,
   "id": "a0c8d283-cf81-446b-a6ff-6c1d83fbbcec",
   "metadata": {},
   "outputs": [
    {
     "name": "stdin",
     "output_type": "stream",
     "text": [
      "enter age and to stop -1 1\n",
      "enter next age  2\n",
      "enter next age  2\n",
      "enter next age  -1\n"
     ]
    },
    {
     "name": "stdout",
     "output_type": "stream",
     "text": [
      "list of ages are [1, 2, 2]\n"
     ]
    }
   ],
   "source": [
    "#create a list of ages \n",
    "ag=int(input(\"enter age and to stop -1\"))\n",
    "ages=[]\n",
    "while ag>0:\n",
    "    ages.append(ag)\n",
    "    ag=int(input(\"enter next age \"))\n",
    "print(\"list of ages are\",ages)"
   ]
  },
  {
   "cell_type": "code",
   "execution_count": 18,
   "id": "02907c25-e549-4675-a96c-7c8861cca7f0",
   "metadata": {},
   "outputs": [
    {
     "name": "stdin",
     "output_type": "stream",
     "text": [
      "enter name type n to stop  n\n"
     ]
    },
    {
     "name": "stdout",
     "output_type": "stream",
     "text": [
      "there are 0 peopel in the class ,they are []\n"
     ]
    }
   ],
   "source": [
    "count=0\n",
    "class_name=[]\n",
    "name=input(\"enter name type n to stop \")\n",
    "while name!='n':\n",
    "    count+=1\n",
    "    class_name.append(name)\n",
    "    print(f'{name}has been added')\n",
    "    name=input('next name')\n",
    "\n",
    "print(f'there are {count} peopel in the class ,they are {class_name}')"
   ]
  },
  {
   "cell_type": "code",
   "execution_count": null,
   "id": "a42c26d9-442d-477a-a5ec-c4af3878ae35",
   "metadata": {},
   "outputs": [],
   "source": []
  },
  {
   "cell_type": "code",
   "execution_count": 6,
   "id": "e176d966-140d-43f8-9965-05c86269b26f",
   "metadata": {},
   "outputs": [
    {
     "name": "stdout",
     "output_type": "stream",
     "text": [
      "5\n",
      "4\n",
      "3\n",
      "2\n",
      "1\n",
      "countdown finished\n"
     ]
    }
   ],
   "source": [
    "x=5\n",
    "while x>0:\n",
    "    print(x)\n",
    "    x-=1\n",
    "else:\n",
    "    print(\"countdown finished\")"
   ]
  },
  {
   "cell_type": "code",
   "execution_count": 7,
   "id": "3a8531bf-2aaa-401e-8386-218951343e46",
   "metadata": {},
   "outputs": [
    {
     "name": "stdout",
     "output_type": "stream",
     "text": [
      "0\n",
      "1\n",
      "2\n"
     ]
    }
   ],
   "source": [
    "count=0\n",
    "while count<5:\n",
    "    if count==3:\n",
    "        break\n",
    "    print(count)\n",
    "    count+=1\n",
    "else:\n",
    "    print(\"count is equal to 5\")"
   ]
  },
  {
   "cell_type": "code",
   "execution_count": 9,
   "id": "455f2df5-3be3-439b-a65e-14681c9506ae",
   "metadata": {},
   "outputs": [
    {
     "name": "stdout",
     "output_type": "stream",
     "text": [
      "even no from 1 to 100 [2, 4, 6, 8, 10, 12, 14, 16, 18, 20, 22, 24, 26, 28, 30, 32, 34, 36, 38, 40, 42, 44, 46, 48, 50, 52, 54, 56, 58, 60, 62, 64, 66, 68, 70, 72, 74, 76, 78, 80, 82, 84, 86, 88, 90, 92, 94, 96, 98, 100]\n"
     ]
    }
   ],
   "source": [
    "num=1\n",
    "even=[]\n",
    "while num<=100:\n",
    "    if num%2==0:\n",
    "        even.append(num)\n",
    "    num+=1\n",
    "\n",
    "print(\"even no from 1 to 100\",even)"
   ]
  },
  {
   "cell_type": "code",
   "execution_count": 11,
   "id": "d30235d0-4709-4bac-b5c5-67919270a333",
   "metadata": {},
   "outputs": [
    {
     "name": "stdout",
     "output_type": "stream",
     "text": [
      "210\n"
     ]
    }
   ],
   "source": [
    "# sum of 1 to 20 numbers using while loop\n",
    "num=1\n",
    "sum=0\n",
    "while num<=20:\n",
    "    sum=sum+num\n",
    "    num+=1\n",
    "\n",
    "print(sum)"
   ]
  },
  {
   "cell_type": "code",
   "execution_count": null,
   "id": "34d19511-f893-472c-96fc-5cfb9cc6aa25",
   "metadata": {},
   "outputs": [],
   "source": []
  }
 ],
 "metadata": {
  "kernelspec": {
   "display_name": "Python 3 (ipykernel)",
   "language": "python",
   "name": "python3"
  },
  "language_info": {
   "codemirror_mode": {
    "name": "ipython",
    "version": 3
   },
   "file_extension": ".py",
   "mimetype": "text/x-python",
   "name": "python",
   "nbconvert_exporter": "python",
   "pygments_lexer": "ipython3",
   "version": "3.11.7"
  }
 },
 "nbformat": 4,
 "nbformat_minor": 5
}
